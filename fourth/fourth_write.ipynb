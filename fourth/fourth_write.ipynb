{
 "cells": [
  {
   "cell_type": "code",
   "execution_count": 1,
   "metadata": {},
   "outputs": [
    {
     "name": "stderr",
     "output_type": "stream",
     "text": [
      "Using TensorFlow backend.\n"
     ]
    }
   ],
   "source": [
    "import numpy as np\n",
    "import os\n",
    "\n",
    "from keras.preprocessing import image\n",
    "from keras.models import load_model\n"
   ]
  },
  {
   "cell_type": "code",
   "execution_count": 2,
   "metadata": {
    "collapsed": true
   },
   "outputs": [],
   "source": [
    "captcha_word  = '0123'\n",
    "width = 150\n",
    "height = 45\n",
    "\n",
    "word_len = 4\n",
    "word_class = 1\n",
    "\n",
    "train_dir = 'C:/Users/HP/Desktop/test'\n",
    "\n",
    "char_indices = dict((c, i) for i,c in enumerate(captcha_word))\n",
    "indices_char = dict((i, c) for i,c in enumerate(captcha_word))\n",
    "\n",
    "\n",
    "def captcha_to_vec(captcha):    \n",
    "   \n",
    "    vector = np.zeros(word_len * word_class)\n",
    "    for i,ch in enumerate(captcha):\n",
    "        idex = char_indices[ch]\n",
    "        vector[idex] = 1\n",
    "    return vector\n",
    "\n",
    "def vec_to_captcha(vec):\n",
    "    return np.argmax(vec)"
   ]
  },
  {
   "cell_type": "code",
   "execution_count": 3,
   "metadata": {},
   "outputs": [
    {
     "name": "stdout",
     "output_type": "stream",
     "text": [
      "测试数据量: 5000\n"
     ]
    }
   ],
   "source": [
    "\n",
    "image_list = []\n",
    "\n",
    "for item in os.listdir(train_dir):\n",
    "    image_list.append(item)\n",
    "\n",
    "TEST_NUM = len(image_list)\n",
    "\n",
    "print(\"测试数据量:\",TEST_NUM)\n"
   ]
  },
  {
   "cell_type": "code",
   "execution_count": 4,
   "metadata": {},
   "outputs": [
    {
     "name": "stdout",
     "output_type": "stream",
     "text": [
      ".....数据加载完毕.....\n"
     ]
    }
   ],
   "source": [
    "X = np.zeros((TEST_NUM, height, width, 3), dtype = np.uint8)\n",
    "\n",
    "for i,img in enumerate(image_list):\n",
    "    img_path = train_dir + \"/\" + img\n",
    "    raw_img = image.load_img(img_path, target_size=(height, width))\n",
    "    X[i] = image.img_to_array(raw_img)\n",
    "\n",
    "print(\".....数据加载完毕.....\")"
   ]
  },
  {
   "cell_type": "code",
   "execution_count": 5,
   "metadata": {
    "collapsed": true
   },
   "outputs": [],
   "source": [
    "\n",
    "def testCaptcha(index):\n",
    "    X_test = np.zeros((1, height, width, 3), dtype = np.float32)\n",
    "    X_test[0] = X[index]\n",
    "    \n",
    "    result = model.predict(X_test)\n",
    "    vex_test = vec_to_captcha(result[0])\n",
    "    \n",
    "    return vex_test\n"
   ]
  },
  {
   "cell_type": "code",
   "execution_count": 6,
   "metadata": {},
   "outputs": [
    {
     "name": "stdout",
     "output_type": "stream",
     "text": [
      ".........测试完毕>>>>>预测数据已写入mappinge文件......\n"
     ]
    }
   ],
   "source": [
    "model=load_model('fourth_model.h5')    \n",
    "\n",
    "file = open(\"mapping.txt\",'w')\n",
    "for i in range(TEST_NUM):\n",
    "    predict = testCaptcha(i)\n",
    "    if i != TEST_NUM-1:\n",
    "        file.write(image_list[i][:4]+','+str(predict)+'\\n')\n",
    "    else:\n",
    "        file.write(image_list[i][:4]+','+str(predict))\n",
    "file.close()\n",
    "\n",
    "print(\".........测试完毕>>>>>预测数据已写入mappinge文件......\")\n"
   ]
  },
  {
   "cell_type": "code",
   "execution_count": null,
   "metadata": {
    "collapsed": true
   },
   "outputs": [],
   "source": []
  }
 ],
 "metadata": {
  "kernelspec": {
   "display_name": "Python 3",
   "language": "python",
   "name": "python3"
  },
  "language_info": {
   "codemirror_mode": {
    "name": "ipython",
    "version": 3
   },
   "file_extension": ".py",
   "mimetype": "text/x-python",
   "name": "python",
   "nbconvert_exporter": "python",
   "pygments_lexer": "ipython3",
   "version": "3.6.2"
  }
 },
 "nbformat": 4,
 "nbformat_minor": 2
}
