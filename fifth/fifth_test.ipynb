{
 "cells": [
  {
   "cell_type": "code",
   "execution_count": 1,
   "metadata": {},
   "outputs": [
    {
     "name": "stderr",
     "output_type": "stream",
     "text": [
      "Using TensorFlow backend.\n"
     ]
    }
   ],
   "source": [
    "import numpy as np\n",
    "import os\n",
    "from PIL import Image\n",
    "import pickle\n",
    "from keras.preprocessing import image\n",
    "from keras.models import load_model"
   ]
  },
  {
   "cell_type": "code",
   "execution_count": 2,
   "metadata": {},
   "outputs": [
    {
     "name": "stdout",
     "output_type": "stream",
     "text": [
      "300\n"
     ]
    }
   ],
   "source": [
    "path =\"val/data\"\n",
    "label = \"val/val_label.txt\"\n",
    "\n",
    "\n",
    "height = 45\n",
    "width = 45\n",
    "dirlist = []\n",
    "for root, dirs, files in os.walk(path):\n",
    "    for dir in dirs :\n",
    "        dirlist.append(dir)\n",
    "dirlist.sort()\n",
    "print(len(dirlist ))\n",
    "\n",
    "with open(label) as file_object:\n",
    "    p = file_object.readlines()\n",
    "\n"
   ]
  },
  {
   "cell_type": "code",
   "execution_count": 3,
   "metadata": {
    "collapsed": true
   },
   "outputs": [],
   "source": [
    "num = 0\n",
    "X1 = np.zeros((len(dirlist)*36,45,45,3), dtype = np.uint8)\n",
    "X2 = np.zeros((len(dirlist)*36,45,45,3), dtype = np.uint8)\n",
    "y = np.zeros((len(dirlist)*36, 1), dtype = np.uint8)\n",
    "\n",
    "for dir in dirlist:\n",
    "    images1 = []\n",
    "    \n",
    "    \n",
    "    image1 = Image.open(path+'/'+dir+'/'+dir+'.jpg')\n",
    "    image1 = image1.resize((180,45))\n",
    "\n",
    "                    \n",
    "    for i in range(4):\n",
    "        left = 45*i\n",
    "        right = 45 * (i+1)\n",
    "        box = (left,0,right,45)\n",
    "        data = np.asarray(image1.crop(box))\n",
    "        images1.append(data)\n",
    "        \n",
    "    \n",
    "                    \n",
    "    for l in p:\n",
    "        if l[:4] == dir:\n",
    "            break;\n",
    "\n",
    "    for i in range(4):\n",
    "        for j in range(9):\n",
    "            im = Image.open(path+'/'+dir+'/'+str(j)+'.jpg')\n",
    "            im = np.asarray(im)\n",
    "            X1[num] = images1[i]\n",
    "            X2[num] = im\n",
    "            if int(l[5+i]) == j:\n",
    "                y[num] = 1\n",
    "            num += 1\n"
   ]
  },
  {
   "cell_type": "code",
   "execution_count": 4,
   "metadata": {},
   "outputs": [
    {
     "name": "stdout",
     "output_type": "stream",
     "text": [
      "0.96\n"
     ]
    }
   ],
   "source": [
    "model = load_model('fifth_model.h5')    \n",
    "def testCaptcha(index):\n",
    "    true_label = p[index][5:9]\n",
    "    X_test1 = np.zeros((9, 45, 45, 3), dtype = np.float32)\n",
    "    X_test2 = np.zeros((9, 45, 45, 3), dtype = np.float32)\n",
    "    s = ''\n",
    "    for i in range(4):\n",
    "        for j in range(9):\n",
    "            X_test1[j] = X1[index*36+i*9+j]\n",
    "            X_test2[j] = X2[index*36+i*9+j]\n",
    "        result = model.predict([X_test1,X_test2])\n",
    "        a = str(np.argmax(result))\n",
    "        s += a\n",
    "            \n",
    "        \n",
    "    if s==true_label:\n",
    "        return 1\n",
    "    else:\n",
    "        return 0\n",
    "    \n",
    "c=0\n",
    "for i in range(300):\n",
    "     if testCaptcha(i)==1:\n",
    "                c+=1\n",
    "print(c/300)\n",
    "\n"
   ]
  },
  {
   "cell_type": "code",
   "execution_count": null,
   "metadata": {
    "collapsed": true
   },
   "outputs": [],
   "source": []
  }
 ],
 "metadata": {
  "kernelspec": {
   "display_name": "Python 3",
   "language": "python",
   "name": "python3"
  },
  "language_info": {
   "codemirror_mode": {
    "name": "ipython",
    "version": 3
   },
   "file_extension": ".py",
   "mimetype": "text/x-python",
   "name": "python",
   "nbconvert_exporter": "python",
   "pygments_lexer": "ipython3",
   "version": "3.6.2"
  }
 },
 "nbformat": 4,
 "nbformat_minor": 2
}
