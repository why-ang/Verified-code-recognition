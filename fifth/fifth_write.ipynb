{
 "cells": [
  {
   "cell_type": "code",
   "execution_count": 1,
   "metadata": {},
   "outputs": [
    {
     "name": "stderr",
     "output_type": "stream",
     "text": [
      "Using TensorFlow backend.\n"
     ]
    }
   ],
   "source": [
    "import numpy as np\n",
    "import os\n",
    "from PIL import Image\n",
    "from keras.preprocessing import image\n",
    "from keras.models import load_model"
   ]
  },
  {
   "cell_type": "code",
   "execution_count": 2,
   "metadata": {},
   "outputs": [
    {
     "name": "stdout",
     "output_type": "stream",
     "text": [
      "测试数据量 300\n"
     ]
    }
   ],
   "source": [
    "path =\"val/data\"\n",
    "\n",
    "height = 45\n",
    "width = 45\n",
    "dirlist = []\n",
    "for root, dirs, files in os.walk(path):\n",
    "    for dir in dirs :\n",
    "        dirlist.append(dir)\n",
    "\n",
    "dirlist.sort()\n",
    "\n",
    "TEST_NUM = len(dirlist)\n",
    "print(\"测试数据量\",TEST_NUM)"
   ]
  },
  {
   "cell_type": "code",
   "execution_count": 3,
   "metadata": {},
   "outputs": [
    {
     "name": "stdout",
     "output_type": "stream",
     "text": [
      ".....数据加载完毕.....\n"
     ]
    }
   ],
   "source": [
    "num = 0\n",
    "X1 = np.zeros((TEST_NUM*36,height,width,3), dtype = np.uint8)\n",
    "X2 = np.zeros((TEST_NUM*36,height,width,3), dtype = np.uint8)\n",
    "\n",
    "for dir in dirlist:\n",
    "    images1 = []\n",
    "     \n",
    "    image1 = Image.open(path+'/'+dir+'/'+dir+'.jpg')\n",
    "    image1 = image1.resize((180,45))\n",
    "\n",
    "                    \n",
    "    for i in range(4):\n",
    "        left = 45*i\n",
    "        right = 45 * (i+1)\n",
    "        box = (left,0,right,45)\n",
    "        data = np.asarray(image1.crop(box))\n",
    "        images1.append(data)\n",
    "        \n",
    "    for i in range(4):\n",
    "        for j in range(9):\n",
    "            im = Image.open(path+'/'+dir+'/'+str(j)+'.jpg')\n",
    "            im = np.asarray(im)\n",
    "            X1[num] = images1[i]\n",
    "            X2[num] = im\n",
    "            num += 1\n",
    "            \n",
    "            \n",
    "print(\".....数据加载完毕.....\")"
   ]
  },
  {
   "cell_type": "code",
   "execution_count": 4,
   "metadata": {
    "collapsed": true
   },
   "outputs": [],
   "source": [
    "model = load_model('fifth_model.h5')    "
   ]
  },
  {
   "cell_type": "code",
   "execution_count": 5,
   "metadata": {
    "collapsed": true
   },
   "outputs": [],
   "source": [
    "def testCaptcha(index):\n",
    "    X_test1 = np.zeros((9, height,width, 3), dtype = np.float32)\n",
    "    X_test2 = np.zeros((9, height,width, 3), dtype = np.float32)\n",
    "    s = ''\n",
    "    for i in range(4):\n",
    "        for j in range(9):\n",
    "            X_test1[j] = X1[index*36+i*9+j]\n",
    "            X_test2[j] = X2[index*36+i*9+j]\n",
    "        result = model.predict([X_test1,X_test2])\n",
    "        a = str(np.argmax(result))\n",
    "        s += a\n",
    "    return s"
   ]
  },
  {
   "cell_type": "code",
   "execution_count": 6,
   "metadata": {},
   "outputs": [
    {
     "name": "stdout",
     "output_type": "stream",
     "text": [
      ".........测试完毕>>>>>预测数据已写入......\n"
     ]
    }
   ],
   "source": [
    "file = open(\"mapping.txt\",'w')\n",
    "\n",
    "for i in range(TEST_NUM):\n",
    "    file.write(dirlist[i][:4]+','+testCaptcha(i)+'\\n')\n",
    "file.close()\n",
    "\n",
    "print(\".........测试完毕>>>>>预测数据已写入......\")\n"
   ]
  },
  {
   "cell_type": "code",
   "execution_count": null,
   "metadata": {
    "collapsed": true
   },
   "outputs": [],
   "source": []
  }
 ],
 "metadata": {
  "kernelspec": {
   "display_name": "Python 3",
   "language": "python",
   "name": "python3"
  },
  "language_info": {
   "codemirror_mode": {
    "name": "ipython",
    "version": 3
   },
   "file_extension": ".py",
   "mimetype": "text/x-python",
   "name": "python",
   "nbconvert_exporter": "python",
   "pygments_lexer": "ipython3",
   "version": "3.6.2"
  }
 },
 "nbformat": 4,
 "nbformat_minor": 2
}
