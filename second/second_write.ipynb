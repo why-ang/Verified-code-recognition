{
 "cells": [
  {
   "cell_type": "code",
   "execution_count": 1,
   "metadata": {},
   "outputs": [
    {
     "name": "stderr",
     "output_type": "stream",
     "text": [
      "Using TensorFlow backend.\n"
     ]
    }
   ],
   "source": [
    "import numpy as np\n",
    "import os\n",
    "from keras.preprocessing import image\n",
    "import string\n",
    "from keras.models import load_model\n",
    "from PIL import Image "
   ]
  },
  {
   "cell_type": "code",
   "execution_count": 2,
   "metadata": {
    "collapsed": true
   },
   "outputs": [],
   "source": [
    "\n",
    "captcha_word  = string.digits + string.ascii_letters\n",
    "\n",
    "width = 200\n",
    "height = 60\n",
    "\n",
    "word_len = 5\n",
    "word_class = len(captcha_word)\n",
    "\n",
    "test_path = 'C:/Users/HP/Desktop/test/test'\n",
    "\n",
    "\n",
    "def vec_to_captcha(vec):\n",
    "    text = []\n",
    "    vec[vec < 0.5] = 0    \n",
    "    char_pos = vec.nonzero()[0]\n",
    "    for i, ch in enumerate(char_pos):\n",
    "        text.append(captcha_word[ch % word_class])\n",
    "    return ''.join(text)\n",
    "\n"
   ]
  },
  {
   "cell_type": "code",
   "execution_count": 3,
   "metadata": {},
   "outputs": [
    {
     "name": "stdout",
     "output_type": "stream",
     "text": [
      "测试数据量 5000\n"
     ]
    }
   ],
   "source": [
    "image_list = []\n",
    "\n",
    "for item in os.listdir(test_path):\n",
    "    image_list.append(item)\n",
    "image_list.sort()\n",
    "\n",
    "TEST_NUM = len(image_list)\n",
    "print(\"测试数据量\",TEST_NUM)\n"
   ]
  },
  {
   "cell_type": "code",
   "execution_count": 4,
   "metadata": {},
   "outputs": [
    {
     "name": "stdout",
     "output_type": "stream",
     "text": [
      ".....数据加载完毕.....\n"
     ]
    }
   ],
   "source": [
    "X = np.zeros((TEST_NUM, height, width,3), dtype = np.uint8)\n",
    "\n",
    "for i,img in enumerate(image_list):\n",
    "    img_path = test_path + \"/\" + img\n",
    "    raw_img = image.load_img(img_path, target_size=(height, width))\n",
    "    X[i] = image.img_to_array(raw_img)\n",
    "\n",
    "\n",
    "print(\".....数据加载完毕.....\")"
   ]
  },
  {
   "cell_type": "code",
   "execution_count": 5,
   "metadata": {
    "collapsed": true
   },
   "outputs": [],
   "source": [
    "def testCaptcha(index):\n",
    "   \n",
    "    X_test = np.zeros((1, height, width, 3), dtype = np.float32)\n",
    "    X_test[0] = X[index]\n",
    "    \n",
    "    result = model.predict(X_test)\n",
    "    vex_test = vec_to_captcha(result[0])\n",
    "    \n",
    "    return vex_test "
   ]
  },
  {
   "cell_type": "code",
   "execution_count": 6,
   "metadata": {},
   "outputs": [
    {
     "name": "stdout",
     "output_type": "stream",
     "text": [
      ".........测试完毕>>>>>预测数据已写入mapping文件......\n"
     ]
    }
   ],
   "source": [
    "model=load_model('second_model.h5')    \n",
    "\n",
    "file = open(\"mapping.txt\",'w')\n",
    "for i in range(TEST_NUM):\n",
    "    predict = testCaptcha(i)\n",
    "    file.write(image_list[i][:4]+','+predict+'\\n')\n",
    "file.close()\n",
    "\n",
    "print(\".........测试完毕>>>>>预测数据已写入mapping文件......\")\n"
   ]
  },
  {
   "cell_type": "code",
   "execution_count": null,
   "metadata": {
    "collapsed": true
   },
   "outputs": [],
   "source": []
  }
 ],
 "metadata": {
  "kernelspec": {
   "display_name": "Python 3",
   "language": "python",
   "name": "python3"
  },
  "language_info": {
   "codemirror_mode": {
    "name": "ipython",
    "version": 3
   },
   "file_extension": ".py",
   "mimetype": "text/x-python",
   "name": "python",
   "nbconvert_exporter": "python",
   "pygments_lexer": "ipython3",
   "version": "3.6.2"
  }
 },
 "nbformat": 4,
 "nbformat_minor": 2
}
