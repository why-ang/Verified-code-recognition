{
 "cells": [
  {
   "cell_type": "code",
   "execution_count": 1,
   "metadata": {},
   "outputs": [
    {
     "name": "stderr",
     "output_type": "stream",
     "text": [
      "Using TensorFlow backend.\n"
     ]
    }
   ],
   "source": [
    "import numpy as np\n",
    "import os\n",
    "from keras.preprocessing import image\n",
    "import string\n",
    "from keras.models import load_model"
   ]
  },
  {
   "cell_type": "code",
   "execution_count": 2,
   "metadata": {
    "collapsed": true
   },
   "outputs": [],
   "source": [
    "captcha_word = string.digits + string.ascii_letters\n",
    "word_len = 5\n",
    "word_class = len(captcha_word)\n",
    "\n",
    "width = 200\n",
    "height = 60\n",
    "\n",
    "\n",
    "train_dir = 'D:/data/YZM/second_test'\n",
    "train_label =  'D:/data/YZM/second_test_label.txt'\n",
    "\n",
    "#生成字符索引\n",
    "char_indices = dict((c, i) for i,c in enumerate(captcha_word))\n",
    "indices_char = dict((i, c) for i,c in enumerate(captcha_word))\n",
    "\n",
    "\n",
    "def captcha_to_vec(captcha):    \n",
    "   \n",
    "    vector = np.zeros(word_len * word_class)\n",
    "    for i,ch in enumerate(captcha):\n",
    "        if ch == ',':\n",
    "            continue\n",
    "        idex = i * word_class + char_indices[ch]\n",
    "        vector[idex] = 1\n",
    "    return vector\n",
    "\n",
    "def vec_to_captcha(vec):\n",
    "    text = []\n",
    "    vec[vec < 0.5] = 0    \n",
    "    char_pos = vec.nonzero()[0]\n",
    "    for i, ch in enumerate(char_pos):\n",
    "        text.append(captcha_word[ch % word_class])\n",
    "    return ''.join(text)\n"
   ]
  },
  {
   "cell_type": "code",
   "execution_count": 3,
   "metadata": {},
   "outputs": [
    {
     "name": "stdout",
     "output_type": "stream",
     "text": [
      "300\n"
     ]
    }
   ],
   "source": [
    "image_list = []\n",
    "\n",
    "for item in os.listdir(train_dir):\n",
    "    image_list.append(item)\n",
    "\n",
    "print(len(image_list))"
   ]
  },
  {
   "cell_type": "code",
   "execution_count": 4,
   "metadata": {
    "collapsed": true
   },
   "outputs": [],
   "source": [
    "X = np.zeros((len(image_list), height, width, 3), dtype = np.uint8)\n",
    "y = np.zeros((len(image_list), word_len * word_class), dtype = np.uint8)\n",
    "\n",
    "with open(train_label) as file_object:\n",
    "    p = file_object.readlines()\n",
    "for i,img in enumerate(image_list):\n",
    "    img_path = train_dir + \"/\" + img\n",
    "    raw_img = image.load_img(img_path, target_size=(height, width))\n",
    "    X[i] = image.img_to_array(raw_img)\n",
    "    for j in range(len(p)):\n",
    "        if img[:4]==p[j][:4]:\n",
    "            break;\n",
    "    y[i] = captcha_to_vec(p[j][5:10])\n"
   ]
  },
  {
   "cell_type": "code",
   "execution_count": 5,
   "metadata": {},
   "outputs": [
    {
     "name": "stdout",
     "output_type": "stream",
     "text": [
      "0.97\n"
     ]
    }
   ],
   "source": [
    "model=load_model('second_model.h5')    \n",
    "\n",
    "def testCaptcha(index):\n",
    "    raw_img = X[index]\n",
    "    true_label = y[index]\n",
    "    \n",
    "    X_T = np.zeros((1, height, width, 3), dtype = np.float32)\n",
    "    X_T[0] = image.img_to_array(raw_img)\n",
    "    \n",
    "    \n",
    "    result = model.predict(X_T)\n",
    "    \n",
    "    vex_test = vec_to_captcha(result[0])\n",
    "    true_test = vec_to_captcha(true_label)\n",
    "    \n",
    "    \n",
    "    if vex_test ==true_test:\n",
    "        return 1\n",
    "    else:\n",
    "        return 0\n",
    "    \n",
    "    \n",
    "c=0\n",
    "for i in range(300):\n",
    "    if testCaptcha(i)==1:\n",
    "               c+=1\n",
    "print(c/300)"
   ]
  },
  {
   "cell_type": "code",
   "execution_count": null,
   "metadata": {
    "collapsed": true
   },
   "outputs": [],
   "source": []
  }
 ],
 "metadata": {
  "kernelspec": {
   "display_name": "Python 3",
   "language": "python",
   "name": "python3"
  },
  "language_info": {
   "codemirror_mode": {
    "name": "ipython",
    "version": 3
   },
   "file_extension": ".py",
   "mimetype": "text/x-python",
   "name": "python",
   "nbconvert_exporter": "python",
   "pygments_lexer": "ipython3",
   "version": "3.6.2"
  }
 },
 "nbformat": 4,
 "nbformat_minor": 2
}
