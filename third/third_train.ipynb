{
 "cells": [
  {
   "cell_type": "code",
   "execution_count": 1,
   "metadata": {},
   "outputs": [
    {
     "name": "stderr",
     "output_type": "stream",
     "text": [
      "Using TensorFlow backend.\n",
      "/home/wei/anaconda3/lib/python3.6/importlib/_bootstrap.py:219: RuntimeWarning: compiletime version 3.5 of module 'tensorflow.python.framework.fast_tensor_util' does not match runtime version 3.6\n",
      "  return f(*args, **kwds)\n"
     ]
    }
   ],
   "source": [
    "import numpy as np\n",
    "import os\n",
    "import pickle\n",
    "\n",
    "from keras.utils import np_utils\n",
    "from keras.preprocessing import image\n",
    "from keras.models import Model\n",
    "from keras.layers import Dense, Dropout, Flatten, Input, concatenate\n",
    "from keras.layers.convolutional import Conv2D, Convolution2D, MaxPooling2D\n",
    "from keras.callbacks import ModelCheckpoint\n",
    "from keras.optimizers import Adadelta\n",
    "from matplotlib import pyplot as plt \n",
    "import string"
   ]
  },
  {
   "cell_type": "markdown",
   "metadata": {},
   "source": [
    "### 配置参数"
   ]
  },
  {
   "cell_type": "code",
   "execution_count": 2,
   "metadata": {
    "collapsed": true
   },
   "outputs": [],
   "source": [
    "captcha_word  = string.digits + string.ascii_letters\n",
    "\n",
    "width = 200\n",
    "height = 80\n",
    "\n",
    "word_len = 4\n",
    "word_class = len(captcha_word)\n",
    "\n",
    "train_dir = '/home/wei/data/third/third_train'\n",
    "train_label =  '/home/wei/data/third/third_label.txt'\n",
    "\n",
    "#生成字符索引\n",
    "char_indices = dict((c, i) for i,c in enumerate(captcha_word))\n",
    "indices_char = dict((i, c) for i,c in enumerate(captcha_word))\n",
    "\n",
    "\n",
    "#验证码字符串转数组\n",
    "def captcha_to_vec(captcha):    \n",
    "   \n",
    "    vector = np.zeros(word_len * word_class)\n",
    "    for i,ch in enumerate(captcha):\n",
    "        idex = i * word_class + char_indices[ch]\n",
    "        vector[idex] = 1\n",
    "    return vector\n",
    "\n",
    "#把数组转换回文字\n",
    "def vec_to_captcha(vec):\n",
    "    text = []\n",
    "    vec[vec < 0.5] = 0    \n",
    "    char_pos = vec.nonzero()[0]\n",
    "    for i, ch in enumerate(char_pos):\n",
    "        text.append(captcha_word[ch % word_class])\n",
    "    return ''.join(text)\n"
   ]
  },
  {
   "cell_type": "code",
   "execution_count": 3,
   "metadata": {},
   "outputs": [
    {
     "name": "stdout",
     "output_type": "stream",
     "text": [
      "ok\n",
      "9700\n"
     ]
    }
   ],
   "source": [
    "#获取目录下样本列表\n",
    "image_list = []\n",
    "\n",
    "for item in os.listdir(train_dir):\n",
    "    image_list.append(item)\n",
    "\n",
    "print(len(image_list))"
   ]
  },
  {
   "cell_type": "code",
   "execution_count": 4,
   "metadata": {},
   "outputs": [
    {
     "name": "stdout",
     "output_type": "stream",
     "text": [
      "ok\n"
     ]
    }
   ],
   "source": [
    "\n",
    "X = np.zeros((len(image_list), height, width, 3), dtype = np.uint8)\n",
    "y = np.zeros((len(image_list), word_len * word_class), dtype = np.uint8)\n",
    "\n",
    "with open(train_label) as file_object:\n",
    "    p = file_object.readlines()\n",
    "for i,img in enumerate(image_list):\n",
    "    img_path = train_dir + \"/\" + img\n",
    "    raw_img = image.load_img(img_path, target_size=(height, width))\n",
    "    X[i] = image.img_to_array(raw_img)\n",
    "    for j in range(len(p)):\n",
    "        if img[:4]==p[j][:4]:\n",
    "            break;\n",
    "    y[i] = captcha_to_vec(p[j][-5:-1])\n",
    "\n"
   ]
  },
  {
   "cell_type": "code",
   "execution_count": 5,
   "metadata": {},
   "outputs": [
    {
     "name": "stdout",
     "output_type": "stream",
     "text": [
      "ok\n"
     ]
    }
   ],
   "source": [
    "#保存成pkl文件\n",
    "file = open('/home/wei/data/third/third_train_data.pkl','wb')\n",
    "pickle.dump((X,y) , file)\n",
    "print(\"ok\")"
   ]
  },
  {
   "cell_type": "markdown",
   "metadata": {},
   "source": [
    "### 加载数据，读取pickle文件"
   ]
  },
  {
   "cell_type": "code",
   "execution_count": 3,
   "metadata": {},
   "outputs": [
    {
     "name": "stdout",
     "output_type": "stream",
     "text": [
      "ok\n"
     ]
    }
   ],
   "source": [
    "#读取pickle文件\n",
    "file = open('/home/wei/data/third/third_train_data.pkl', 'rb')\n",
    "X, y = pickle.load(file)\n",
    "print(\"ok\")"
   ]
  },
  {
   "cell_type": "markdown",
   "metadata": {},
   "source": [
    "### 创建模型"
   ]
  },
  {
   "cell_type": "code",
   "execution_count": 9,
   "metadata": {},
   "outputs": [
    {
     "name": "stdout",
     "output_type": "stream",
     "text": [
      "ok\n"
     ]
    }
   ],
   "source": [
    "input_tensor = Input( shape=(height, width, 3))\n",
    "\n",
    "x = input_tensor\n",
    "\n",
    "x = Convolution2D(32, 5, padding='same', activation='relu')(x)\n",
    "x = Convolution2D(32, 5, padding='same', activation='relu')(x)\n",
    "x = MaxPooling2D((2, 2))(x)\n",
    "\n",
    "\n",
    "x = Convolution2D(64, 3, padding='same', activation='relu')(x)\n",
    "x = Convolution2D(64, 3, padding='same', activation='relu')(x)\n",
    "x = MaxPooling2D((2, 2))(x)\n",
    "\n",
    "x = Convolution2D(128, 3, padding='same', activation='relu')(x)\n",
    "x = Convolution2D(128, 3, padding='same',activation='relu')(x)\n",
    "x = MaxPooling2D((2, 2))(x)\n",
    "\n",
    "\n",
    "x = Flatten()(x)\n",
    "\n",
    "x = Dropout(0.3)(x)\n",
    "\n",
    "\n",
    "#最后连接4个分类器\n",
    "x = [Dense(word_class, activation='softmax', name='c%d'%(i+1))(x) for i in range(word_len)]\n",
    "output = concatenate(x)\n",
    "\n",
    "model = Model(inputs=input_tensor, outputs=output)\n",
    "\n",
    "opt = Adadelta(lr=0.1)\n",
    "model.compile(loss = 'categorical_crossentropy', optimizer=opt, metrics=['accuracy'])\n",
    "\n",
    "\n",
    "#每次epoch都保存一下权重，用于继续训练\n",
    "checkpointer = ModelCheckpoint(filepath=\"/home/wei/weight_3/weights.{epoch:02d}--{val_loss:.2f}-{val_acc:.4f}.hdf5\", \n",
    "                               verbose=2, save_weights_only=True)"
   ]
  },
  {
   "cell_type": "markdown",
   "metadata": {},
   "source": [
    "### 开始训练模型"
   ]
  },
  {
   "cell_type": "code",
   "execution_count": 6,
   "metadata": {},
   "outputs": [
    {
     "name": "stdout",
     "output_type": "stream",
     "text": [
      "Train on 8730 samples, validate on 970 samples\n",
      "Epoch 1/45\n",
      "8704/8730 [============================>.] - ETA: 3s - loss: 17.9088 - acc: 0.1050\n",
      "Epoch 00001: saving model to /home/wei/weight_3/weights.01--7.50-0.3031.hdf5\n",
      "8730/8730 [==============================] - 1319s 151ms/step - loss: 17.8807 - acc: 0.1053 - val_loss: 7.5045 - val_acc: 0.3031\n",
      "Epoch 2/45\n",
      "8704/8730 [============================>.] - ETA: 3s - loss: 6.6201 - acc: 0.2838\n",
      "Epoch 00002: saving model to /home/wei/weight_3/weights.02--5.71-0.2670.hdf5\n",
      "8730/8730 [==============================] - 1302s 149ms/step - loss: 6.6191 - acc: 0.2837 - val_loss: 5.7081 - val_acc: 0.2670\n",
      "Epoch 3/45\n",
      "8704/8730 [============================>.] - ETA: 3s - loss: 5.8228 - acc: 0.2883\n",
      "Epoch 00003: saving model to /home/wei/weight_3/weights.03--5.63-0.2866.hdf5\n",
      "8730/8730 [==============================] - 1303s 149ms/step - loss: 5.8225 - acc: 0.2881 - val_loss: 5.6328 - val_acc: 0.2866\n",
      "Epoch 4/45\n",
      "8704/8730 [============================>.] - ETA: 3s - loss: 5.6772 - acc: 0.2934\n",
      "Epoch 00004: saving model to /home/wei/weight_3/weights.04--5.58-0.3062.hdf5\n",
      "8730/8730 [==============================] - 1303s 149ms/step - loss: 5.6770 - acc: 0.2931 - val_loss: 5.5764 - val_acc: 0.3062\n",
      "Epoch 5/45\n",
      "8704/8730 [============================>.] - ETA: 3s - loss: 5.6273 - acc: 0.3512\n",
      "Epoch 00005: saving model to /home/wei/weight_3/weights.05--5.58-0.3072.hdf5\n",
      "8730/8730 [==============================] - 1303s 149ms/step - loss: 5.6273 - acc: 0.3510 - val_loss: 5.5816 - val_acc: 0.3072\n",
      "Epoch 6/45\n",
      "8704/8730 [============================>.] - ETA: 3s - loss: 5.6031 - acc: 0.3733\n",
      "Epoch 00006: saving model to /home/wei/weight_3/weights.06--5.56-0.4196.hdf5\n",
      "8730/8730 [==============================] - 1304s 149ms/step - loss: 5.6029 - acc: 0.3730 - val_loss: 5.5608 - val_acc: 0.4196\n",
      "Epoch 7/45\n",
      "8704/8730 [============================>.] - ETA: 3s - loss: 5.5837 - acc: 0.4192\n",
      "Epoch 00007: saving model to /home/wei/weight_3/weights.07--5.56-0.4866.hdf5\n",
      "8730/8730 [==============================] - 1304s 149ms/step - loss: 5.5837 - acc: 0.4197 - val_loss: 5.5637 - val_acc: 0.4866\n",
      "Epoch 8/45\n",
      "8704/8730 [============================>.] - ETA: 3s - loss: 5.5734 - acc: 0.4624\n",
      "Epoch 00008: saving model to /home/wei/weight_3/weights.08--5.55-0.4876.hdf5\n",
      "8730/8730 [==============================] - 1304s 149ms/step - loss: 5.5733 - acc: 0.4625 - val_loss: 5.5545 - val_acc: 0.4876\n",
      "Epoch 9/45\n",
      "8704/8730 [============================>.] - ETA: 3s - loss: 5.5665 - acc: 0.5416\n",
      "Epoch 00009: saving model to /home/wei/weight_3/weights.09--5.56-0.6608.hdf5\n",
      "8730/8730 [==============================] - 1305s 149ms/step - loss: 5.5664 - acc: 0.5419 - val_loss: 5.5551 - val_acc: 0.6608\n",
      "Epoch 10/45\n",
      "8704/8730 [============================>.] - ETA: 3s - loss: 5.5623 - acc: 0.5707\n",
      "Epoch 00010: saving model to /home/wei/weight_3/weights.10--5.55-0.6866.hdf5\n",
      "8730/8730 [==============================] - 1305s 149ms/step - loss: 5.5622 - acc: 0.5708 - val_loss: 5.5475 - val_acc: 0.6866\n",
      "Epoch 11/45\n",
      "8704/8730 [============================>.] - ETA: 3s - loss: 5.5602 - acc: 0.6189\n",
      "Epoch 00011: saving model to /home/wei/weight_3/weights.11--5.55-0.7237.hdf5\n",
      "8730/8730 [==============================] - 1304s 149ms/step - loss: 5.5602 - acc: 0.6192 - val_loss: 5.5484 - val_acc: 0.7237\n",
      "Epoch 12/45\n",
      "8704/8730 [============================>.] - ETA: 3s - loss: 5.5557 - acc: 0.7160\n",
      "Epoch 00012: saving model to /home/wei/weight_3/weights.12--5.55-0.7031.hdf5\n",
      "8730/8730 [==============================] - 1303s 149ms/step - loss: 5.5557 - acc: 0.7160 - val_loss: 5.5497 - val_acc: 0.7031\n",
      "Epoch 13/45\n",
      "8704/8730 [============================>.] - ETA: 3s - loss: 5.5589 - acc: 0.7146\n",
      "Epoch 00013: saving model to /home/wei/weight_3/weights.13--5.55-0.8031.hdf5\n",
      "8730/8730 [==============================] - 1304s 149ms/step - loss: 5.5589 - acc: 0.7148 - val_loss: 5.5496 - val_acc: 0.8031\n",
      "Epoch 14/45\n",
      "8704/8730 [============================>.] - ETA: 3s - loss: 5.5551 - acc: 0.7068\n",
      "Epoch 00014: saving model to /home/wei/weight_3/weights.14--5.55-0.7567.hdf5\n",
      "8730/8730 [==============================] - 1304s 149ms/step - loss: 5.5551 - acc: 0.7069 - val_loss: 5.5518 - val_acc: 0.7567\n",
      "Epoch 15/45\n",
      "8704/8730 [============================>.] - ETA: 3s - loss: 5.5532 - acc: 0.7405\n",
      "Epoch 00015: saving model to /home/wei/weight_3/weights.15--5.55-0.8443.hdf5\n",
      "8730/8730 [==============================] - 1303s 149ms/step - loss: 5.5533 - acc: 0.7402 - val_loss: 5.5516 - val_acc: 0.8443\n",
      "Epoch 16/45\n",
      "8704/8730 [============================>.] - ETA: 3s - loss: 5.5520 - acc: 0.7792\n",
      "Epoch 00016: saving model to /home/wei/weight_3/weights.16--5.55-0.8948.hdf5\n",
      "8730/8730 [==============================] - 1303s 149ms/step - loss: 5.5519 - acc: 0.7789 - val_loss: 5.5529 - val_acc: 0.8948\n",
      "Epoch 17/45\n",
      "8704/8730 [============================>.] - ETA: 3s - loss: 5.5568 - acc: 0.7395\n",
      "Epoch 00017: saving model to /home/wei/weight_3/weights.17--5.55-0.8598.hdf5\n",
      "8730/8730 [==============================] - 1304s 149ms/step - loss: 5.5567 - acc: 0.7400 - val_loss: 5.5467 - val_acc: 0.8598\n",
      "Epoch 18/45\n",
      "8704/8730 [============================>.] - ETA: 3s - loss: 5.5525 - acc: 0.7538\n",
      "Epoch 00018: saving model to /home/wei/weight_3/weights.18--5.55-0.8887.hdf5\n",
      "8730/8730 [==============================] - 1304s 149ms/step - loss: 5.5525 - acc: 0.7543 - val_loss: 5.5490 - val_acc: 0.8887\n",
      "Epoch 19/45\n",
      "8704/8730 [============================>.] - ETA: 3s - loss: 5.5496 - acc: 0.8511\n",
      "Epoch 00019: saving model to /home/wei/weight_3/weights.19--5.55-0.9175.hdf5\n",
      "8730/8730 [==============================] - 1303s 149ms/step - loss: 5.5496 - acc: 0.8512 - val_loss: 5.5467 - val_acc: 0.9175\n",
      "Epoch 20/45\n",
      "8704/8730 [============================>.] - ETA: 3s - loss: 5.5484 - acc: 0.8536\n",
      "Epoch 00020: saving model to /home/wei/weight_3/weights.20--5.55-0.9289.hdf5\n",
      "8730/8730 [==============================] - 1303s 149ms/step - loss: 5.5484 - acc: 0.8540 - val_loss: 5.5468 - val_acc: 0.9289\n",
      "Epoch 21/45\n",
      "8704/8730 [============================>.] - ETA: 3s - loss: 5.5496 - acc: 0.8753\n",
      "Epoch 00021: saving model to /home/wei/weight_3/weights.21--5.55-0.9608.hdf5\n",
      "8730/8730 [==============================] - 1311s 150ms/step - loss: 5.5496 - acc: 0.8756 - val_loss: 5.5476 - val_acc: 0.9608\n",
      "Epoch 22/45\n",
      "8704/8730 [============================>.] - ETA: 3s - loss: 5.5511 - acc: 0.8779\n",
      "Epoch 00022: saving model to /home/wei/weight_3/weights.22--5.56-0.9526.hdf5\n",
      "8730/8730 [==============================] - 1306s 150ms/step - loss: 5.5511 - acc: 0.8778 - val_loss: 5.5586 - val_acc: 0.9526\n",
      "Epoch 23/45\n",
      "8704/8730 [============================>.] - ETA: 3s - loss: 5.5492 - acc: 0.8802\n",
      "Epoch 00023: saving model to /home/wei/weight_3/weights.23--5.55-0.9144.hdf5\n",
      "8730/8730 [==============================] - 1304s 149ms/step - loss: 5.5492 - acc: 0.8801 - val_loss: 5.5490 - val_acc: 0.9144\n",
      "Epoch 24/45\n",
      "8704/8730 [============================>.] - ETA: 3s - loss: 5.5490 - acc: 0.8923\n",
      "Epoch 00024: saving model to /home/wei/weight_3/weights.24--5.55-0.9330.hdf5\n",
      "8730/8730 [==============================] - 1305s 150ms/step - loss: 5.5490 - acc: 0.8922 - val_loss: 5.5456 - val_acc: 0.9330\n",
      "Epoch 25/45\n",
      "8704/8730 [============================>.] - ETA: 3s - loss: 5.5510 - acc: 0.8657\n",
      "Epoch 00025: saving model to /home/wei/weight_3/weights.25--5.55-0.8928.hdf5\n",
      "8730/8730 [==============================] - 1304s 149ms/step - loss: 5.5510 - acc: 0.8658 - val_loss: 5.5500 - val_acc: 0.8928\n",
      "Epoch 26/45\n",
      "8704/8730 [============================>.] - ETA: 3s - loss: 5.5482 - acc: 0.8803\n",
      "Epoch 00026: saving model to /home/wei/weight_3/weights.26--5.55-0.9299.hdf5\n",
      "8730/8730 [==============================] - 1304s 149ms/step - loss: 5.5482 - acc: 0.8802 - val_loss: 5.5522 - val_acc: 0.9299\n",
      "Epoch 27/45\n",
      "8704/8730 [============================>.] - ETA: 3s - loss: 5.5474 - acc: 0.9081\n",
      "Epoch 00027: saving model to /home/wei/weight_3/weights.27--5.55-0.8134.hdf5\n",
      "8730/8730 [==============================] - 1312s 150ms/step - loss: 5.5475 - acc: 0.9082 - val_loss: 5.5523 - val_acc: 0.8134\n",
      "Epoch 28/45\n",
      "7616/8730 [=========================>....] - ETA: 2:42 - loss: 5.5520 - acc: 0.9101"
     ]
    },
    {
     "ename": "KeyboardInterrupt",
     "evalue": "",
     "output_type": "error",
     "traceback": [
      "\u001b[0;31m---------------------------------------------------------------------------\u001b[0m",
      "\u001b[0;31mKeyboardInterrupt\u001b[0m                         Traceback (most recent call last)",
      "\u001b[0;32m<ipython-input-6-ae1c5d193474>\u001b[0m in \u001b[0;36m<module>\u001b[0;34m()\u001b[0m\n\u001b[1;32m      3\u001b[0m                                verbose=2, save_weights_only=True)\n\u001b[1;32m      4\u001b[0m \u001b[0;31m#callbacks=[checkpointer],validation_split=0.1\u001b[0m\u001b[0;34m\u001b[0m\u001b[0;34m\u001b[0m\u001b[0m\n\u001b[0;32m----> 5\u001b[0;31m \u001b[0mmodel\u001b[0m\u001b[0;34m.\u001b[0m\u001b[0mfit\u001b[0m\u001b[0;34m(\u001b[0m\u001b[0mX\u001b[0m\u001b[0;34m,\u001b[0m \u001b[0my\u001b[0m\u001b[0;34m,\u001b[0m \u001b[0mepochs\u001b[0m\u001b[0;34m=\u001b[0m\u001b[0;36m45\u001b[0m\u001b[0;34m,\u001b[0m\u001b[0mcallbacks\u001b[0m\u001b[0;34m=\u001b[0m\u001b[0;34m[\u001b[0m\u001b[0mcheckpointer\u001b[0m\u001b[0;34m]\u001b[0m\u001b[0;34m,\u001b[0m\u001b[0mvalidation_split\u001b[0m\u001b[0;34m=\u001b[0m\u001b[0;36m0.1\u001b[0m\u001b[0;34m)\u001b[0m\u001b[0;34m\u001b[0m\u001b[0m\n\u001b[0m",
      "\u001b[0;32m~/anaconda3/lib/python3.6/site-packages/keras/engine/training.py\u001b[0m in \u001b[0;36mfit\u001b[0;34m(self, x, y, batch_size, epochs, verbose, callbacks, validation_split, validation_data, shuffle, class_weight, sample_weight, initial_epoch, steps_per_epoch, validation_steps, **kwargs)\u001b[0m\n\u001b[1;32m   1667\u001b[0m                               \u001b[0minitial_epoch\u001b[0m\u001b[0;34m=\u001b[0m\u001b[0minitial_epoch\u001b[0m\u001b[0;34m,\u001b[0m\u001b[0;34m\u001b[0m\u001b[0m\n\u001b[1;32m   1668\u001b[0m                               \u001b[0msteps_per_epoch\u001b[0m\u001b[0;34m=\u001b[0m\u001b[0msteps_per_epoch\u001b[0m\u001b[0;34m,\u001b[0m\u001b[0;34m\u001b[0m\u001b[0m\n\u001b[0;32m-> 1669\u001b[0;31m                               validation_steps=validation_steps)\n\u001b[0m\u001b[1;32m   1670\u001b[0m \u001b[0;34m\u001b[0m\u001b[0m\n\u001b[1;32m   1671\u001b[0m     def evaluate(self, x=None, y=None,\n",
      "\u001b[0;32m~/anaconda3/lib/python3.6/site-packages/keras/engine/training.py\u001b[0m in \u001b[0;36m_fit_loop\u001b[0;34m(self, f, ins, out_labels, batch_size, epochs, verbose, callbacks, val_f, val_ins, shuffle, callback_metrics, initial_epoch, steps_per_epoch, validation_steps)\u001b[0m\n\u001b[1;32m   1204\u001b[0m                         \u001b[0mins_batch\u001b[0m\u001b[0;34m[\u001b[0m\u001b[0mi\u001b[0m\u001b[0;34m]\u001b[0m \u001b[0;34m=\u001b[0m \u001b[0mins_batch\u001b[0m\u001b[0;34m[\u001b[0m\u001b[0mi\u001b[0m\u001b[0;34m]\u001b[0m\u001b[0;34m.\u001b[0m\u001b[0mtoarray\u001b[0m\u001b[0;34m(\u001b[0m\u001b[0;34m)\u001b[0m\u001b[0;34m\u001b[0m\u001b[0m\n\u001b[1;32m   1205\u001b[0m \u001b[0;34m\u001b[0m\u001b[0m\n\u001b[0;32m-> 1206\u001b[0;31m                     \u001b[0mouts\u001b[0m \u001b[0;34m=\u001b[0m \u001b[0mf\u001b[0m\u001b[0;34m(\u001b[0m\u001b[0mins_batch\u001b[0m\u001b[0;34m)\u001b[0m\u001b[0;34m\u001b[0m\u001b[0m\n\u001b[0m\u001b[1;32m   1207\u001b[0m                     \u001b[0;32mif\u001b[0m \u001b[0;32mnot\u001b[0m \u001b[0misinstance\u001b[0m\u001b[0;34m(\u001b[0m\u001b[0mouts\u001b[0m\u001b[0;34m,\u001b[0m \u001b[0mlist\u001b[0m\u001b[0;34m)\u001b[0m\u001b[0;34m:\u001b[0m\u001b[0;34m\u001b[0m\u001b[0m\n\u001b[1;32m   1208\u001b[0m                         \u001b[0mouts\u001b[0m \u001b[0;34m=\u001b[0m \u001b[0;34m[\u001b[0m\u001b[0mouts\u001b[0m\u001b[0;34m]\u001b[0m\u001b[0;34m\u001b[0m\u001b[0m\n",
      "\u001b[0;32m~/anaconda3/lib/python3.6/site-packages/keras/backend/tensorflow_backend.py\u001b[0m in \u001b[0;36m__call__\u001b[0;34m(self, inputs)\u001b[0m\n\u001b[1;32m   2473\u001b[0m         \u001b[0msession\u001b[0m \u001b[0;34m=\u001b[0m \u001b[0mget_session\u001b[0m\u001b[0;34m(\u001b[0m\u001b[0;34m)\u001b[0m\u001b[0;34m\u001b[0m\u001b[0m\n\u001b[1;32m   2474\u001b[0m         updated = session.run(fetches=fetches, feed_dict=feed_dict,\n\u001b[0;32m-> 2475\u001b[0;31m                               **self.session_kwargs)\n\u001b[0m\u001b[1;32m   2476\u001b[0m         \u001b[0;32mreturn\u001b[0m \u001b[0mupdated\u001b[0m\u001b[0;34m[\u001b[0m\u001b[0;34m:\u001b[0m\u001b[0mlen\u001b[0m\u001b[0;34m(\u001b[0m\u001b[0mself\u001b[0m\u001b[0;34m.\u001b[0m\u001b[0moutputs\u001b[0m\u001b[0;34m)\u001b[0m\u001b[0;34m]\u001b[0m\u001b[0;34m\u001b[0m\u001b[0m\n\u001b[1;32m   2477\u001b[0m \u001b[0;34m\u001b[0m\u001b[0m\n",
      "\u001b[0;32m~/anaconda3/lib/python3.6/site-packages/tensorflow/python/client/session.py\u001b[0m in \u001b[0;36mrun\u001b[0;34m(self, fetches, feed_dict, options, run_metadata)\u001b[0m\n\u001b[1;32m    887\u001b[0m     \u001b[0;32mtry\u001b[0m\u001b[0;34m:\u001b[0m\u001b[0;34m\u001b[0m\u001b[0m\n\u001b[1;32m    888\u001b[0m       result = self._run(None, fetches, feed_dict, options_ptr,\n\u001b[0;32m--> 889\u001b[0;31m                          run_metadata_ptr)\n\u001b[0m\u001b[1;32m    890\u001b[0m       \u001b[0;32mif\u001b[0m \u001b[0mrun_metadata\u001b[0m\u001b[0;34m:\u001b[0m\u001b[0;34m\u001b[0m\u001b[0m\n\u001b[1;32m    891\u001b[0m         \u001b[0mproto_data\u001b[0m \u001b[0;34m=\u001b[0m \u001b[0mtf_session\u001b[0m\u001b[0;34m.\u001b[0m\u001b[0mTF_GetBuffer\u001b[0m\u001b[0;34m(\u001b[0m\u001b[0mrun_metadata_ptr\u001b[0m\u001b[0;34m)\u001b[0m\u001b[0;34m\u001b[0m\u001b[0m\n",
      "\u001b[0;32m~/anaconda3/lib/python3.6/site-packages/tensorflow/python/client/session.py\u001b[0m in \u001b[0;36m_run\u001b[0;34m(self, handle, fetches, feed_dict, options, run_metadata)\u001b[0m\n\u001b[1;32m   1118\u001b[0m     \u001b[0;32mif\u001b[0m \u001b[0mfinal_fetches\u001b[0m \u001b[0;32mor\u001b[0m \u001b[0mfinal_targets\u001b[0m \u001b[0;32mor\u001b[0m \u001b[0;34m(\u001b[0m\u001b[0mhandle\u001b[0m \u001b[0;32mand\u001b[0m \u001b[0mfeed_dict_tensor\u001b[0m\u001b[0;34m)\u001b[0m\u001b[0;34m:\u001b[0m\u001b[0;34m\u001b[0m\u001b[0m\n\u001b[1;32m   1119\u001b[0m       results = self._do_run(handle, final_targets, final_fetches,\n\u001b[0;32m-> 1120\u001b[0;31m                              feed_dict_tensor, options, run_metadata)\n\u001b[0m\u001b[1;32m   1121\u001b[0m     \u001b[0;32melse\u001b[0m\u001b[0;34m:\u001b[0m\u001b[0;34m\u001b[0m\u001b[0m\n\u001b[1;32m   1122\u001b[0m       \u001b[0mresults\u001b[0m \u001b[0;34m=\u001b[0m \u001b[0;34m[\u001b[0m\u001b[0;34m]\u001b[0m\u001b[0;34m\u001b[0m\u001b[0m\n",
      "\u001b[0;32m~/anaconda3/lib/python3.6/site-packages/tensorflow/python/client/session.py\u001b[0m in \u001b[0;36m_do_run\u001b[0;34m(self, handle, target_list, fetch_list, feed_dict, options, run_metadata)\u001b[0m\n\u001b[1;32m   1315\u001b[0m     \u001b[0;32mif\u001b[0m \u001b[0mhandle\u001b[0m \u001b[0;32mis\u001b[0m \u001b[0;32mNone\u001b[0m\u001b[0;34m:\u001b[0m\u001b[0;34m\u001b[0m\u001b[0m\n\u001b[1;32m   1316\u001b[0m       return self._do_call(_run_fn, self._session, feeds, fetches, targets,\n\u001b[0;32m-> 1317\u001b[0;31m                            options, run_metadata)\n\u001b[0m\u001b[1;32m   1318\u001b[0m     \u001b[0;32melse\u001b[0m\u001b[0;34m:\u001b[0m\u001b[0;34m\u001b[0m\u001b[0m\n\u001b[1;32m   1319\u001b[0m       \u001b[0;32mreturn\u001b[0m \u001b[0mself\u001b[0m\u001b[0;34m.\u001b[0m\u001b[0m_do_call\u001b[0m\u001b[0;34m(\u001b[0m\u001b[0m_prun_fn\u001b[0m\u001b[0;34m,\u001b[0m \u001b[0mself\u001b[0m\u001b[0;34m.\u001b[0m\u001b[0m_session\u001b[0m\u001b[0;34m,\u001b[0m \u001b[0mhandle\u001b[0m\u001b[0;34m,\u001b[0m \u001b[0mfeeds\u001b[0m\u001b[0;34m,\u001b[0m \u001b[0mfetches\u001b[0m\u001b[0;34m)\u001b[0m\u001b[0;34m\u001b[0m\u001b[0m\n",
      "\u001b[0;32m~/anaconda3/lib/python3.6/site-packages/tensorflow/python/client/session.py\u001b[0m in \u001b[0;36m_do_call\u001b[0;34m(self, fn, *args)\u001b[0m\n\u001b[1;32m   1321\u001b[0m   \u001b[0;32mdef\u001b[0m \u001b[0m_do_call\u001b[0m\u001b[0;34m(\u001b[0m\u001b[0mself\u001b[0m\u001b[0;34m,\u001b[0m \u001b[0mfn\u001b[0m\u001b[0;34m,\u001b[0m \u001b[0;34m*\u001b[0m\u001b[0margs\u001b[0m\u001b[0;34m)\u001b[0m\u001b[0;34m:\u001b[0m\u001b[0;34m\u001b[0m\u001b[0m\n\u001b[1;32m   1322\u001b[0m     \u001b[0;32mtry\u001b[0m\u001b[0;34m:\u001b[0m\u001b[0;34m\u001b[0m\u001b[0m\n\u001b[0;32m-> 1323\u001b[0;31m       \u001b[0;32mreturn\u001b[0m \u001b[0mfn\u001b[0m\u001b[0;34m(\u001b[0m\u001b[0;34m*\u001b[0m\u001b[0margs\u001b[0m\u001b[0;34m)\u001b[0m\u001b[0;34m\u001b[0m\u001b[0m\n\u001b[0m\u001b[1;32m   1324\u001b[0m     \u001b[0;32mexcept\u001b[0m \u001b[0merrors\u001b[0m\u001b[0;34m.\u001b[0m\u001b[0mOpError\u001b[0m \u001b[0;32mas\u001b[0m \u001b[0me\u001b[0m\u001b[0;34m:\u001b[0m\u001b[0;34m\u001b[0m\u001b[0m\n\u001b[1;32m   1325\u001b[0m       \u001b[0mmessage\u001b[0m \u001b[0;34m=\u001b[0m \u001b[0mcompat\u001b[0m\u001b[0;34m.\u001b[0m\u001b[0mas_text\u001b[0m\u001b[0;34m(\u001b[0m\u001b[0me\u001b[0m\u001b[0;34m.\u001b[0m\u001b[0mmessage\u001b[0m\u001b[0;34m)\u001b[0m\u001b[0;34m\u001b[0m\u001b[0m\n",
      "\u001b[0;32m~/anaconda3/lib/python3.6/site-packages/tensorflow/python/client/session.py\u001b[0m in \u001b[0;36m_run_fn\u001b[0;34m(session, feed_dict, fetch_list, target_list, options, run_metadata)\u001b[0m\n\u001b[1;32m   1300\u001b[0m           return tf_session.TF_Run(session, options,\n\u001b[1;32m   1301\u001b[0m                                    \u001b[0mfeed_dict\u001b[0m\u001b[0;34m,\u001b[0m \u001b[0mfetch_list\u001b[0m\u001b[0;34m,\u001b[0m \u001b[0mtarget_list\u001b[0m\u001b[0;34m,\u001b[0m\u001b[0;34m\u001b[0m\u001b[0m\n\u001b[0;32m-> 1302\u001b[0;31m                                    status, run_metadata)\n\u001b[0m\u001b[1;32m   1303\u001b[0m \u001b[0;34m\u001b[0m\u001b[0m\n\u001b[1;32m   1304\u001b[0m     \u001b[0;32mdef\u001b[0m \u001b[0m_prun_fn\u001b[0m\u001b[0;34m(\u001b[0m\u001b[0msession\u001b[0m\u001b[0;34m,\u001b[0m \u001b[0mhandle\u001b[0m\u001b[0;34m,\u001b[0m \u001b[0mfeed_dict\u001b[0m\u001b[0;34m,\u001b[0m \u001b[0mfetch_list\u001b[0m\u001b[0;34m)\u001b[0m\u001b[0;34m:\u001b[0m\u001b[0;34m\u001b[0m\u001b[0m\n",
      "\u001b[0;31mKeyboardInterrupt\u001b[0m: "
     ]
    }
   ],
   "source": [
    "model.fit(X, y, epochs=45,callbacks=[checkpointer],validation_split=0.1)"
   ]
  },
  {
   "cell_type": "code",
   "execution_count": 12,
   "metadata": {
    "collapsed": true
   },
   "outputs": [],
   "source": [
    "#保存权重和模型\n",
    "model.save_weights('/home/wei/data/third/third_model_weights.h5')\n",
    "model.save('/home/wei/data/third/third_model.h5')"
   ]
  }
 ],
 "metadata": {
  "kernelspec": {
   "display_name": "Python 3",
   "language": "python",
   "name": "python3"
  },
  "language_info": {
   "codemirror_mode": {
    "name": "ipython",
    "version": 3
   },
   "file_extension": ".py",
   "mimetype": "text/x-python",
   "name": "python",
   "nbconvert_exporter": "python",
   "pygments_lexer": "ipython3",
   "version": "3.6.2"
  }
 },
 "nbformat": 4,
 "nbformat_minor": 2
}
