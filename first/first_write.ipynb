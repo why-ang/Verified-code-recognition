{
 "cells": [
  {
   "cell_type": "code",
   "execution_count": 1,
   "metadata": {},
   "outputs": [
    {
     "name": "stderr",
     "output_type": "stream",
     "text": [
      "Using TensorFlow backend.\n"
     ]
    }
   ],
   "source": [
    "import numpy as np\n",
    "import os\n",
    "from keras.preprocessing import image\n",
    "from keras.models import load_model"
   ]
  },
  {
   "cell_type": "code",
   "execution_count": 2,
   "metadata": {
    "collapsed": true
   },
   "outputs": [],
   "source": [
    "captcha_word  = '0123456789+-* '\n",
    "word_class = len(captcha_word)\n",
    "width = 350\n",
    "height = 80\n",
    "\n",
    "test_path = \"C:/Users/HP/Desktop/test1\"  \n",
    "\n",
    "def vec_to_captcha(vec):\n",
    "    text = []\n",
    "    vec[vec < 0.5] = 0    \n",
    "    char_pos = vec.nonzero()[0]\n",
    "    for i, ch in enumerate(char_pos):\n",
    "        text.append(captcha_word[ch % word_class])\n",
    "    return ''.join(text)\n"
   ]
  },
  {
   "cell_type": "code",
   "execution_count": 3,
   "metadata": {},
   "outputs": [
    {
     "name": "stdout",
     "output_type": "stream",
     "text": [
      "测试数据量: 5000\n"
     ]
    }
   ],
   "source": [
    "test_image_list =[]\n",
    "\n",
    "for item in os.listdir(test_path):\n",
    "    test_image_list.append(item)\n",
    "test_image_list.sort()\n",
    "\n",
    "TEST_NUM = len(test_image_list)\n",
    "\n",
    "\n",
    "print(\"测试数据量:\",TEST_NUM)"
   ]
  },
  {
   "cell_type": "code",
   "execution_count": 4,
   "metadata": {},
   "outputs": [
    {
     "name": "stdout",
     "output_type": "stream",
     "text": [
      ".....数据加载完毕.....\n"
     ]
    }
   ],
   "source": [
    "X_test = np.zeros((TEST_NUM , height, width, 3), dtype = np.uint8)    \n",
    "\n",
    "for i,img in enumerate(test_image_list):\n",
    "    img_path = test_path + \"/\" + img\n",
    "    raw_img = image.load_img(img_path, target_size=(height, width))\n",
    "    X_test[i] = image.img_to_array(raw_img)\n",
    "    \n",
    "print(\".....数据加载完毕.....\")\n"
   ]
  },
  {
   "cell_type": "code",
   "execution_count": 5,
   "metadata": {
    "collapsed": true
   },
   "outputs": [],
   "source": [
    "def testCaptcha(index):\n",
    "   \n",
    "    X_T = np.zeros((1, height, width, 3), dtype = np.float32)\n",
    "    X_T[0] = X_test[index]\n",
    "    \n",
    "    result = model.predict(X_T)\n",
    "    vex_test = vec_to_captcha(result[0])\n",
    "    \n",
    "    return vex_test "
   ]
  },
  {
   "cell_type": "code",
   "execution_count": 6,
   "metadata": {},
   "outputs": [
    {
     "name": "stdout",
     "output_type": "stream",
     "text": [
      ".........测试完毕>>>>>预测数据已写入mappinge文件......\n"
     ]
    }
   ],
   "source": [
    "\n",
    "model=load_model('first_model.h5')    \n",
    "\n",
    "file = open(\"mapping.txt\",'w')\n",
    "for i in range(TEST_NUM):\n",
    "    predict = testCaptcha(i)\n",
    "    try:\n",
    "        s = str(eval(predict))\n",
    "    except:\n",
    "        s = '0'\n",
    "    file.write(test_image_list[i][:4]+','+predict.rstrip()+'='+s+'\\n')\n",
    "file.close()\n",
    "\n",
    "print(\".........测试完毕>>>>>预测数据已写入mappinge文件......\")\n"
   ]
  },
  {
   "cell_type": "code",
   "execution_count": null,
   "metadata": {
    "collapsed": true
   },
   "outputs": [],
   "source": []
  }
 ],
 "metadata": {
  "kernelspec": {
   "display_name": "Python 3",
   "language": "python",
   "name": "python3"
  },
  "language_info": {
   "codemirror_mode": {
    "name": "ipython",
    "version": 3
   },
   "file_extension": ".py",
   "mimetype": "text/x-python",
   "name": "python",
   "nbconvert_exporter": "python",
   "pygments_lexer": "ipython3",
   "version": "3.6.2"
  }
 },
 "nbformat": 4,
 "nbformat_minor": 2
}
