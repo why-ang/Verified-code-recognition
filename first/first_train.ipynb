{
 "cells": [
  {
   "cell_type": "code",
   "execution_count": 1,
   "metadata": {},
   "outputs": [
    {
     "name": "stderr",
     "output_type": "stream",
     "text": [
      "Using TensorFlow backend.\n",
      "/home/wei/anaconda3/lib/python3.6/importlib/_bootstrap.py:219: RuntimeWarning: compiletime version 3.5 of module 'tensorflow.python.framework.fast_tensor_util' does not match runtime version 3.6\n",
      "  return f(*args, **kwds)\n"
     ]
    }
   ],
   "source": [
    "import numpy as np\n",
    "import os\n",
    "import pickle\n",
    "\n",
    "from keras.utils import np_utils\n",
    "from keras.preprocessing import image\n",
    "from keras.models import Model\n",
    "from keras.layers import Dense, Dropout, Flatten, Input, concatenate\n",
    "from keras.layers.convolutional import Conv2D, Convolution2D, MaxPooling2D\n",
    "from keras.callbacks import ModelCheckpoint\n",
    "from keras.optimizers import Adadelta\n",
    "from matplotlib import pyplot as plt \n",
    "import string"
   ]
  },
  {
   "cell_type": "markdown",
   "metadata": {},
   "source": [
    "### 配置参数"
   ]
  },
  {
   "cell_type": "code",
   "execution_count": 2,
   "metadata": {
    "collapsed": true
   },
   "outputs": [],
   "source": [
    "captcha_word  = '0123456789+-* '\n",
    "\n",
    "width = 350\n",
    "height = 80\n",
    "\n",
    "word_len = 8\n",
    "word_class = len(captcha_word)\n",
    "\n",
    "train_dir = '/home/wei/data/first/first_train'\n",
    "train_label =  '/home/wei/data/first/first_label.txt'\n",
    "\n",
    "#生成字符索引\n",
    "char_indices = dict((c, i) for i,c in enumerate(captcha_word))\n",
    "indices_char = dict((i, c) for i,c in enumerate(captcha_word))\n",
    "\n",
    "\n",
    "#验证码字符串转数组\n",
    "def captcha_to_vec(captcha):    \n",
    "   \n",
    "    vector = np.zeros(word_len * word_class)\n",
    "    for i,ch in enumerate(captcha):\n",
    "        if ch == ',':\n",
    "            continue\n",
    "        idex = i * word_class + char_indices[ch]\n",
    "        vector[idex] = 1\n",
    "    return vector\n",
    "\n",
    "#把数组转换回文字\n",
    "def vec_to_captcha(vec):\n",
    "    text = []\n",
    "    vec[vec < 0.5] = 0    \n",
    "    char_pos = vec.nonzero()[0]\n",
    "    for i, ch in enumerate(char_pos):\n",
    "        text.append(captcha_word[ch % word_class])\n",
    "    return ''.join(text)\n"
   ]
  },
  {
   "cell_type": "code",
   "execution_count": 3,
   "metadata": {},
   "outputs": [
    {
     "name": "stdout",
     "output_type": "stream",
     "text": [
      "ok\n"
     ]
    }
   ],
   "source": [
    "\n",
    "image_list = []\n",
    "\n",
    "for item in os.listdir(train_dir):\n",
    "    image_list.append(item)\n",
    "\n",
    "print(\"ok\")"
   ]
  },
  {
   "cell_type": "code",
   "execution_count": 4,
   "metadata": {},
   "outputs": [
    {
     "name": "stdout",
     "output_type": "stream",
     "text": [
      "ok\n"
     ]
    }
   ],
   "source": [
    "\n",
    "X = np.zeros((len(image_list), height, width, 3), dtype = np.uint8)\n",
    "y = np.zeros((len(image_list), word_len * word_class), dtype = np.uint8)\n",
    "\n",
    "with open(train_label) as file_object:\n",
    "    p = file_object.readlines()\n",
    "for i,img in enumerate(image_list):\n",
    "    img_path = train_dir + \"/\" + img\n",
    "    raw_img = image.load_img(img_path, target_size=(height, width))\n",
    "    X[i] = image.img_to_array(raw_img)\n",
    "    for j in range(len(p)):\n",
    "        if img[:4]==p[j][:4]:\n",
    "            break;\n",
    "    s = ''\n",
    "    flage = 0\n",
    "    for k in p[j]:\n",
    "        if k=='=':\n",
    "            break\n",
    "        else:\n",
    "            s += k\n",
    "    n = len(s[5:])\n",
    "    if n!= 8:\n",
    "        for m in range(8-n):\n",
    "            s += ' '\n",
    "    y[i] = captcha_to_vec(s[5:])\n",
    "\n",
    "print(\"ok\")\n"
   ]
  },
  {
   "cell_type": "code",
   "execution_count": 5,
   "metadata": {},
   "outputs": [
    {
     "name": "stdout",
     "output_type": "stream",
     "text": [
      "ok\n"
     ]
    }
   ],
   "source": [
    "#保存成pkl文件\n",
    "file = open('/home/wei/data/first/val/first_train_data.pkl','wb')\n",
    "pickle.dump((X,y) , file)\n",
    "print(\"ok\")"
   ]
  },
  {
   "cell_type": "markdown",
   "metadata": {},
   "source": [
    "### 加载数据，读取pickle文件"
   ]
  },
  {
   "cell_type": "code",
   "execution_count": 3,
   "metadata": {},
   "outputs": [
    {
     "name": "stdout",
     "output_type": "stream",
     "text": [
      "ok\n"
     ]
    }
   ],
   "source": [
    "#读取pickle文件\n",
    "file = open('/home/wei/data/first/val/first_train_data.pkl', 'rb')\n",
    "X, y = pickle.load(file)\n",
    "print(\"ok\")"
   ]
  },
  {
   "cell_type": "markdown",
   "metadata": {},
   "source": [
    "### 创建模型"
   ]
  },
  {
   "cell_type": "code",
   "execution_count": 4,
   "metadata": {},
   "outputs": [
    {
     "name": "stdout",
     "output_type": "stream",
     "text": [
      "ok\n"
     ]
    }
   ],
   "source": [
    "\n",
    "input_tensor = Input( shape=(height, width, 3))\n",
    "\n",
    "x = input_tensor\n",
    "\n",
    "\n",
    "x = Convolution2D(32, 3, padding='same', activation='relu')(x)\n",
    "x = Convolution2D(32, 3, padding='same', activation='relu')(x)\n",
    "x = MaxPooling2D((2, 2))(x)\n",
    "\n",
    "\n",
    "x = Convolution2D(64, 3, padding='same', activation='relu')(x)\n",
    "x = Convolution2D(64, 3, padding='same', activation='relu')(x)\n",
    "x = MaxPooling2D((2, 2))(x)\n",
    "\n",
    "x = Convolution2D(128, 3, padding='same', activation='relu')(x)\n",
    "x = Convolution2D(128, 3, padding='same',activation='relu')(x)\n",
    "x = MaxPooling2D((2, 2))(x)\n",
    "\n",
    "x = Flatten()(x)\n",
    "x = Dropout(0.25)(x)\n",
    "\n",
    "\n",
    "#最后连接5个分类器\n",
    "x = [Dense(word_class, activation='softmax', name='c%d'%(i+1))(x) for i in range(word_len)]\n",
    "output = concatenate(x)\n",
    "\n",
    "model = Model(inputs=input_tensor, outputs=output)\n",
    "\n",
    "opt = Adadelta(lr=0.1)\n",
    "model.compile(loss = 'categorical_crossentropy', optimizer=opt, metrics=['accuracy'])\n",
    "checkpointer = ModelCheckpoint(filepath=\"/home/wei/weight/weights.{epoch:02d}--{val_loss:.2f}-{val_acc:.4f}.hdf5\", \n",
    "                               verbose=2, save_weights_only=True)\n",
    "\n",
    "print(\"ok\")\n"
   ]
  },
  {
   "cell_type": "markdown",
   "metadata": {},
   "source": [
    "### 开始训练模型"
   ]
  },
  {
   "cell_type": "code",
   "execution_count": 9,
   "metadata": {},
   "outputs": [
    {
     "name": "stdout",
     "output_type": "stream",
     "text": [
      "Train on 8100 samples, validate on 900 samples\n",
      "Epoch 1/55\n",
      "8096/8100 [============================>.] - ETA: 0s - loss: 100.1600 - acc: 0.0485\n",
      "Epoch 00001: saving model to /home/wei/weight/weights.01--100.04-0.0544.hdf5\n",
      "8100/8100 [==============================] - 1350s 167ms/step - loss: 100.1552 - acc: 0.0486 - val_loss: 100.0407 - val_acc: 0.0544\n",
      "Epoch 2/55\n",
      "8096/8100 [============================>.] - ETA: 0s - loss: 99.9579 - acc: 0.0495\n",
      "Epoch 00002: saving model to /home/wei/weight/weights.02--100.04-0.0544.hdf5\n",
      "8100/8100 [==============================] - 1329s 164ms/step - loss: 99.9549 - acc: 0.0495 - val_loss: 100.0407 - val_acc: 0.0544\n",
      "Epoch 3/55\n",
      "8096/8100 [============================>.] - ETA: 0s - loss: 99.9658 - acc: 0.0493\n",
      "Epoch 00003: saving model to /home/wei/weight/weights.03--100.04-0.0544.hdf5\n",
      "8100/8100 [==============================] - 1330s 164ms/step - loss: 99.9697 - acc: 0.0493 - val_loss: 100.0407 - val_acc: 0.0544\n",
      "Epoch 4/55\n",
      "8096/8100 [============================>.] - ETA: 0s - loss: 99.9675 - acc: 0.0493\n",
      "Epoch 00004: saving model to /home/wei/weight/weights.04--100.04-0.0544.hdf5\n",
      "8100/8100 [==============================] - 1331s 164ms/step - loss: 99.9697 - acc: 0.0493 - val_loss: 100.0407 - val_acc: 0.0544\n",
      "Epoch 5/55\n",
      "8096/8100 [============================>.] - ETA: 0s - loss: 99.9710 - acc: 0.0494\n",
      "Epoch 00005: saving model to /home/wei/weight/weights.05--100.04-0.0544.hdf5\n",
      "8100/8100 [==============================] - 1331s 164ms/step - loss: 99.9697 - acc: 0.0494 - val_loss: 100.0407 - val_acc: 0.0544\n",
      "Epoch 6/55\n",
      "8096/8100 [============================>.] - ETA: 0s - loss: 99.9727 - acc: 0.0494\n",
      "Epoch 00006: saving model to /home/wei/weight/weights.06--100.04-0.0544.hdf5\n",
      "8100/8100 [==============================] - 1331s 164ms/step - loss: 99.9697 - acc: 0.0494 - val_loss: 100.0407 - val_acc: 0.0544\n",
      "Epoch 7/55\n",
      "8096/8100 [============================>.] - ETA: 0s - loss: 99.9678 - acc: 0.0494\n",
      "Epoch 00007: saving model to /home/wei/weight/weights.07--100.04-0.0544.hdf5\n",
      "8100/8100 [==============================] - 1331s 164ms/step - loss: 99.9682 - acc: 0.0494 - val_loss: 100.0407 - val_acc: 0.0544\n",
      "Epoch 8/55\n",
      "8096/8100 [============================>.] - ETA: 0s - loss: 99.9692 - acc: 0.0494\n",
      "Epoch 00008: saving model to /home/wei/weight/weights.08--100.04-0.0544.hdf5\n",
      "8100/8100 [==============================] - 1331s 164ms/step - loss: 99.9697 - acc: 0.0494 - val_loss: 100.0407 - val_acc: 0.0544\n",
      "Epoch 9/55\n",
      "8096/8100 [============================>.] - ETA: 0s - loss: 99.9658 - acc: 0.0494\n",
      "Epoch 00009: saving model to /home/wei/weight/weights.09--100.04-0.0544.hdf5\n",
      "8100/8100 [==============================] - 1331s 164ms/step - loss: 99.9697 - acc: 0.0494 - val_loss: 100.0407 - val_acc: 0.0544\n",
      "Epoch 10/55\n",
      "8096/8100 [============================>.] - ETA: 0s - loss: 99.8878 - acc: 0.0646\n",
      "Epoch 00010: saving model to /home/wei/weight/weights.10--93.19-0.5411.hdf5\n",
      "8100/8100 [==============================] - 1331s 164ms/step - loss: 99.8808 - acc: 0.0648 - val_loss: 93.1930 - val_acc: 0.5411\n",
      "Epoch 11/55\n",
      "8096/8100 [============================>.] - ETA: 0s - loss: 35.1138 - acc: 0.2342\n",
      "Epoch 00011: saving model to /home/wei/weight/weights.11--16.68-0.2744.hdf5\n",
      "8100/8100 [==============================] - 1331s 164ms/step - loss: 35.1048 - acc: 0.2343 - val_loss: 16.6812 - val_acc: 0.2744\n",
      "Epoch 12/55\n",
      "8096/8100 [============================>.] - ETA: 0s - loss: 16.6692 - acc: 0.5271\n",
      "Epoch 00012: saving model to /home/wei/weight/weights.12--16.64-0.7033.hdf5\n",
      "8100/8100 [==============================] - 1330s 164ms/step - loss: 16.6692 - acc: 0.5272 - val_loss: 16.6367 - val_acc: 0.7033\n",
      "Epoch 13/55\n",
      "8096/8100 [============================>.] - ETA: 0s - loss: 16.6441 - acc: 0.7658\n",
      "Epoch 00013: saving model to /home/wei/weight/weights.13--16.64-0.9189.hdf5\n",
      "8100/8100 [==============================] - 1331s 164ms/step - loss: 16.6441 - acc: 0.7659 - val_loss: 16.6356 - val_acc: 0.9189\n",
      "Epoch 14/55\n",
      "8096/8100 [============================>.] - ETA: 0s - loss: 16.6388 - acc: 0.8534\n",
      "Epoch 00014: saving model to /home/wei/weight/weights.14--16.64-0.9378.hdf5\n",
      "8100/8100 [==============================] - 1330s 164ms/step - loss: 16.6388 - acc: 0.8533 - val_loss: 16.6356 - val_acc: 0.9378\n",
      "Epoch 15/55\n",
      "8096/8100 [============================>.] - ETA: 0s - loss: 16.6369 - acc: 0.8935\n",
      "Epoch 00015: saving model to /home/wei/weight/weights.15--16.64-0.9844.hdf5\n",
      "8100/8100 [==============================] - 1330s 164ms/step - loss: 16.6369 - acc: 0.8935 - val_loss: 16.6356 - val_acc: 0.9844\n",
      "Epoch 16/55\n",
      "8096/8100 [============================>.] - ETA: 0s - loss: 16.6370 - acc: 0.9286\n",
      "Epoch 00016: saving model to /home/wei/weight/weights.16--16.64-0.9711.hdf5\n",
      "8100/8100 [==============================] - 1330s 164ms/step - loss: 16.6370 - acc: 0.9286 - val_loss: 16.6355 - val_acc: 0.9711\n",
      "Epoch 17/55\n",
      "8096/8100 [============================>.] - ETA: 0s - loss: 16.6361 - acc: 0.9499\n",
      "Epoch 00017: saving model to /home/wei/weight/weights.17--16.64-0.9878.hdf5\n",
      "8100/8100 [==============================] - 1331s 164ms/step - loss: 16.6361 - acc: 0.9498 - val_loss: 16.6355 - val_acc: 0.9878\n",
      "Epoch 18/55\n",
      "8096/8100 [============================>.] - ETA: 0s - loss: 16.6358 - acc: 0.9733\n",
      "Epoch 00018: saving model to /home/wei/weight/weights.18--16.64-0.9989.hdf5\n",
      "8100/8100 [==============================] - 1330s 164ms/step - loss: 16.6358 - acc: 0.9733 - val_loss: 16.6355 - val_acc: 0.9989\n",
      "Epoch 19/55\n",
      "8096/8100 [============================>.] - ETA: 0s - loss: 16.6359 - acc: 0.9765\n",
      "Epoch 00019: saving model to /home/wei/weight/weights.19--16.64-0.9989.hdf5\n",
      "8100/8100 [==============================] - 1340s 165ms/step - loss: 16.6359 - acc: 0.9765 - val_loss: 16.6355 - val_acc: 0.9989\n",
      "Epoch 20/55\n",
      "8096/8100 [============================>.] - ETA: 0s - loss: 16.6378 - acc: 0.9744\n",
      "Epoch 00020: saving model to /home/wei/weight/weights.20--16.64-0.9922.hdf5\n",
      "8100/8100 [==============================] - 1330s 164ms/step - loss: 16.6378 - acc: 0.9744 - val_loss: 16.6355 - val_acc: 0.9922\n",
      "Epoch 21/55\n",
      "8096/8100 [============================>.] - ETA: 0s - loss: 16.6359 - acc: 0.9799\n",
      "Epoch 00021: saving model to /home/wei/weight/weights.21--16.64-0.9978.hdf5\n",
      "8100/8100 [==============================] - 1330s 164ms/step - loss: 16.6359 - acc: 0.9799 - val_loss: 16.6355 - val_acc: 0.9978\n",
      "Epoch 22/55\n",
      "8096/8100 [============================>.] - ETA: 0s - loss: 16.6359 - acc: 0.9823\n",
      "Epoch 00022: saving model to /home/wei/weight/weights.22--16.64-1.0000.hdf5\n",
      "8100/8100 [==============================] - 1331s 164ms/step - loss: 16.6359 - acc: 0.9823 - val_loss: 16.6355 - val_acc: 1.0000\n",
      "Epoch 23/55\n",
      "8096/8100 [============================>.] - ETA: 0s - loss: 16.6361 - acc: 0.9867\n",
      "Epoch 00023: saving model to /home/wei/weight/weights.23--16.64-1.0000.hdf5\n",
      "8100/8100 [==============================] - 1339s 165ms/step - loss: 16.6361 - acc: 0.9867 - val_loss: 16.6355 - val_acc: 1.0000\n",
      "Epoch 24/55\n",
      "8096/8100 [============================>.] - ETA: 0s - loss: 16.6375 - acc: 0.9935\n",
      "Epoch 00024: saving model to /home/wei/weight/weights.24--16.64-1.0000.hdf5\n",
      "8100/8100 [==============================] - 1331s 164ms/step - loss: 16.6375 - acc: 0.9935 - val_loss: 16.6355 - val_acc: 1.0000\n",
      "Epoch 25/55\n",
      "8096/8100 [============================>.] - ETA: 0s - loss: 16.6359 - acc: 0.9896\n",
      "Epoch 00025: saving model to /home/wei/weight/weights.25--16.64-1.0000.hdf5\n",
      "8100/8100 [==============================] - 1331s 164ms/step - loss: 16.6359 - acc: 0.9896 - val_loss: 16.6355 - val_acc: 1.0000\n",
      "Epoch 26/55\n",
      "8096/8100 [============================>.] - ETA: 0s - loss: 16.6358 - acc: 0.9923\n",
      "Epoch 00026: saving model to /home/wei/weight/weights.26--16.64-1.0000.hdf5\n",
      "8100/8100 [==============================] - 1332s 164ms/step - loss: 16.6358 - acc: 0.9923 - val_loss: 16.6355 - val_acc: 1.0000\n",
      "Epoch 27/55\n",
      "8096/8100 [============================>.] - ETA: 0s - loss: 16.6357 - acc: 0.9933\n",
      "Epoch 00027: saving model to /home/wei/weight/weights.27--16.64-0.9978.hdf5\n",
      "8100/8100 [==============================] - 1331s 164ms/step - loss: 16.6357 - acc: 0.9933 - val_loss: 16.6355 - val_acc: 0.9978\n",
      "Epoch 28/55\n"
     ]
    },
    {
     "name": "stdout",
     "output_type": "stream",
     "text": [
      "8096/8100 [============================>.] - ETA: 0s - loss: 16.6366 - acc: 0.9928\n",
      "Epoch 00028: saving model to /home/wei/weight/weights.28--16.64-1.0000.hdf5\n",
      "8100/8100 [==============================] - 1330s 164ms/step - loss: 16.6366 - acc: 0.9927 - val_loss: 16.6355 - val_acc: 1.0000\n",
      "Epoch 29/55\n",
      "8096/8100 [============================>.] - ETA: 0s - loss: 16.6357 - acc: 0.9889\n",
      "Epoch 00029: saving model to /home/wei/weight/weights.29--16.64-1.0000.hdf5\n",
      "8100/8100 [==============================] - 1330s 164ms/step - loss: 16.6357 - acc: 0.9889 - val_loss: 16.6355 - val_acc: 1.0000\n",
      "Epoch 30/55\n",
      "8096/8100 [============================>.] - ETA: 0s - loss: 16.6356 - acc: 0.9942\n",
      "Epoch 00030: saving model to /home/wei/weight/weights.30--16.64-1.0000.hdf5\n",
      "8100/8100 [==============================] - 1330s 164ms/step - loss: 16.6356 - acc: 0.9942 - val_loss: 16.6355 - val_acc: 1.0000\n",
      "Epoch 31/55\n",
      "8096/8100 [============================>.] - ETA: 0s - loss: 16.6355 - acc: 0.9956\n",
      "Epoch 00031: saving model to /home/wei/weight/weights.31--16.64-1.0000.hdf5\n",
      "8100/8100 [==============================] - 1330s 164ms/step - loss: 16.6355 - acc: 0.9956 - val_loss: 16.6355 - val_acc: 1.0000\n",
      "Epoch 32/55\n",
      "8096/8100 [============================>.] - ETA: 0s - loss: 16.6360 - acc: 0.9959\n",
      "Epoch 00032: saving model to /home/wei/weight/weights.32--16.64-1.0000.hdf5\n",
      "8100/8100 [==============================] - 1330s 164ms/step - loss: 16.6360 - acc: 0.9959 - val_loss: 16.6355 - val_acc: 1.0000\n",
      "Epoch 33/55\n",
      "8096/8100 [============================>.] - ETA: 0s - loss: 16.6356 - acc: 0.9958\n",
      "Epoch 00033: saving model to /home/wei/weight/weights.33--16.64-1.0000.hdf5\n",
      "8100/8100 [==============================] - 1330s 164ms/step - loss: 16.6356 - acc: 0.9958 - val_loss: 16.6355 - val_acc: 1.0000\n",
      "Epoch 34/55\n",
      "8096/8100 [============================>.] - ETA: 0s - loss: 16.6359 - acc: 0.9960\n",
      "Epoch 00034: saving model to /home/wei/weight/weights.34--16.64-1.0000.hdf5\n",
      "8100/8100 [==============================] - 1331s 164ms/step - loss: 16.6359 - acc: 0.9960 - val_loss: 16.6355 - val_acc: 1.0000\n",
      "Epoch 35/55\n",
      "8096/8100 [============================>.] - ETA: 0s - loss: 16.6356 - acc: 0.9935\n",
      "Epoch 00035: saving model to /home/wei/weight/weights.35--16.64-1.0000.hdf5\n",
      "8100/8100 [==============================] - 1330s 164ms/step - loss: 16.6356 - acc: 0.9935 - val_loss: 16.6355 - val_acc: 1.0000\n",
      "Epoch 36/55\n",
      "8096/8100 [============================>.] - ETA: 0s - loss: 16.6355 - acc: 0.9967\n",
      "Epoch 00036: saving model to /home/wei/weight/weights.36--16.64-1.0000.hdf5\n",
      "8100/8100 [==============================] - 1330s 164ms/step - loss: 16.6355 - acc: 0.9967 - val_loss: 16.6355 - val_acc: 1.0000\n",
      "Epoch 37/55\n",
      "8096/8100 [============================>.] - ETA: 0s - loss: 16.6356 - acc: 0.9963\n",
      "Epoch 00037: saving model to /home/wei/weight/weights.37--16.64-1.0000.hdf5\n",
      "8100/8100 [==============================] - 1330s 164ms/step - loss: 16.6356 - acc: 0.9963 - val_loss: 16.6355 - val_acc: 1.0000\n",
      "Epoch 38/55\n",
      "8096/8100 [============================>.] - ETA: 0s - loss: 16.6363 - acc: 0.9956\n",
      "Epoch 00038: saving model to /home/wei/weight/weights.38--16.64-1.0000.hdf5\n",
      "8100/8100 [==============================] - 1330s 164ms/step - loss: 16.6363 - acc: 0.9956 - val_loss: 16.6355 - val_acc: 1.0000\n",
      "Epoch 39/55\n",
      "8096/8100 [============================>.] - ETA: 0s - loss: 16.6355 - acc: 0.9967\n",
      "Epoch 00039: saving model to /home/wei/weight/weights.39--16.64-1.0000.hdf5\n",
      "8100/8100 [==============================] - 1329s 164ms/step - loss: 16.6355 - acc: 0.9967 - val_loss: 16.6355 - val_acc: 1.0000\n",
      "Epoch 40/55\n",
      "8096/8100 [============================>.] - ETA: 0s - loss: 16.6355 - acc: 0.9964\n",
      "Epoch 00040: saving model to /home/wei/weight/weights.40--16.64-1.0000.hdf5\n",
      "8100/8100 [==============================] - 1330s 164ms/step - loss: 16.6355 - acc: 0.9964 - val_loss: 16.6355 - val_acc: 1.0000\n",
      "Epoch 41/55\n",
      "8096/8100 [============================>.] - ETA: 0s - loss: 16.6355 - acc: 0.9984\n",
      "Epoch 00041: saving model to /home/wei/weight/weights.41--16.64-1.0000.hdf5\n",
      "8100/8100 [==============================] - 1330s 164ms/step - loss: 16.6355 - acc: 0.9984 - val_loss: 16.6355 - val_acc: 1.0000\n",
      "Epoch 42/55\n",
      "8096/8100 [============================>.] - ETA: 0s - loss: 16.6355 - acc: 0.9994\n",
      "Epoch 00042: saving model to /home/wei/weight/weights.42--16.64-1.0000.hdf5\n",
      "8100/8100 [==============================] - 1329s 164ms/step - loss: 16.6355 - acc: 0.9994 - val_loss: 16.6355 - val_acc: 1.0000\n",
      "Epoch 43/55\n",
      "8096/8100 [============================>.] - ETA: 0s - loss: 16.6355 - acc: 0.9986\n",
      "Epoch 00043: saving model to /home/wei/weight/weights.43--16.64-1.0000.hdf5\n",
      "8100/8100 [==============================] - 1330s 164ms/step - loss: 16.6355 - acc: 0.9986 - val_loss: 16.6355 - val_acc: 1.0000\n",
      "Epoch 44/55\n",
      "8096/8100 [============================>.] - ETA: 0s - loss: 16.6355 - acc: 0.9995\n",
      "Epoch 00044: saving model to /home/wei/weight/weights.44--16.64-1.0000.hdf5\n",
      "8100/8100 [==============================] - 1330s 164ms/step - loss: 16.6355 - acc: 0.9995 - val_loss: 16.6355 - val_acc: 1.0000\n",
      "Epoch 45/55\n",
      "8096/8100 [============================>.] - ETA: 0s - loss: 16.6361 - acc: 0.9979\n",
      "Epoch 00045: saving model to /home/wei/weight/weights.45--16.64-1.0000.hdf5\n",
      "8100/8100 [==============================] - 1330s 164ms/step - loss: 16.6361 - acc: 0.9979 - val_loss: 16.6355 - val_acc: 1.0000\n",
      "Epoch 46/55\n",
      "8096/8100 [============================>.] - ETA: 0s - loss: 16.6356 - acc: 0.9977\n",
      "Epoch 00046: saving model to /home/wei/weight/weights.46--16.64-1.0000.hdf5\n",
      "8100/8100 [==============================] - 1330s 164ms/step - loss: 16.6356 - acc: 0.9977 - val_loss: 16.6355 - val_acc: 1.0000\n",
      "Epoch 47/55\n",
      "8096/8100 [============================>.] - ETA: 0s - loss: 16.6357 - acc: 0.9964\n",
      "Epoch 00047: saving model to /home/wei/weight/weights.47--16.64-1.0000.hdf5\n",
      "8100/8100 [==============================] - 1330s 164ms/step - loss: 16.6357 - acc: 0.9964 - val_loss: 16.6355 - val_acc: 1.0000\n",
      "Epoch 48/55\n",
      "8096/8100 [============================>.] - ETA: 0s - loss: 16.6355 - acc: 0.9993\n",
      "Epoch 00048: saving model to /home/wei/weight/weights.48--16.64-1.0000.hdf5\n",
      "8100/8100 [==============================] - 1330s 164ms/step - loss: 16.6355 - acc: 0.9993 - val_loss: 16.6355 - val_acc: 1.0000\n",
      "Epoch 49/55\n",
      "8096/8100 [============================>.] - ETA: 0s - loss: 16.6356 - acc: 0.9979\n",
      "Epoch 00049: saving model to /home/wei/weight/weights.49--16.64-1.0000.hdf5\n",
      "8100/8100 [==============================] - 1330s 164ms/step - loss: 16.6356 - acc: 0.9979 - val_loss: 16.6355 - val_acc: 1.0000\n",
      "Epoch 50/55\n",
      "8096/8100 [============================>.] - ETA: 0s - loss: 16.6356 - acc: 0.9949\n",
      "Epoch 00050: saving model to /home/wei/weight/weights.50--16.64-1.0000.hdf5\n",
      "8100/8100 [==============================] - 1330s 164ms/step - loss: 16.6356 - acc: 0.9949 - val_loss: 16.6355 - val_acc: 1.0000\n",
      "Epoch 51/55\n",
      "8096/8100 [============================>.] - ETA: 0s - loss: 16.6356 - acc: 0.9977\n",
      "Epoch 00051: saving model to /home/wei/weight/weights.51--16.64-1.0000.hdf5\n",
      "8100/8100 [==============================] - 1329s 164ms/step - loss: 16.6356 - acc: 0.9977 - val_loss: 16.6355 - val_acc: 1.0000\n",
      "Epoch 52/55\n",
      "8096/8100 [============================>.] - ETA: 0s - loss: 16.6355 - acc: 0.9974\n",
      "Epoch 00052: saving model to /home/wei/weight/weights.52--16.64-1.0000.hdf5\n",
      "8100/8100 [==============================] - 1330s 164ms/step - loss: 16.6355 - acc: 0.9974 - val_loss: 16.6355 - val_acc: 1.0000\n",
      "Epoch 53/55\n",
      "8096/8100 [============================>.] - ETA: 0s - loss: 16.6356 - acc: 0.9988\n",
      "Epoch 00053: saving model to /home/wei/weight/weights.53--16.64-1.0000.hdf5\n",
      "8100/8100 [==============================] - 1330s 164ms/step - loss: 16.6356 - acc: 0.9988 - val_loss: 16.6355 - val_acc: 1.0000\n",
      "Epoch 54/55\n",
      "8096/8100 [============================>.] - ETA: 0s - loss: 16.6356 - acc: 0.9990\n",
      "Epoch 00054: saving model to /home/wei/weight/weights.54--16.64-1.0000.hdf5\n",
      "8100/8100 [==============================] - 1330s 164ms/step - loss: 16.6356 - acc: 0.9990 - val_loss: 16.6355 - val_acc: 1.0000\n",
      "Epoch 55/55\n",
      "8096/8100 [============================>.] - ETA: 0s - loss: 16.6375 - acc: 0.9984\n",
      "Epoch 00055: saving model to /home/wei/weight/weights.55--16.64-1.0000.hdf5\n",
      "8100/8100 [==============================] - 1330s 164ms/step - loss: 16.6375 - acc: 0.9984 - val_loss: 16.6355 - val_acc: 1.0000\n"
     ]
    },
    {
     "data": {
      "text/plain": [
       "<keras.callbacks.History at 0x7fb8bc1f3940>"
      ]
     },
     "execution_count": 9,
     "metadata": {},
     "output_type": "execute_result"
    }
   ],
   "source": [
    "model.fit(X, y, epochs=55,callbacks=[checkpointer],validation_split=0.1)"
   ]
  },
  {
   "cell_type": "code",
   "execution_count": 12,
   "metadata": {
    "collapsed": true
   },
   "outputs": [],
   "source": [
    "#保存权重和模型\n",
    "model.save_weights('/home/wei/data/first/val/first_model_weights.h5')\n",
    "model.save('/home/wei/data/first/val/first_model.h5')"
   ]
  }
 ],
 "metadata": {
  "kernelspec": {
   "display_name": "Python 3",
   "language": "python",
   "name": "python3"
  },
  "language_info": {
   "codemirror_mode": {
    "name": "ipython",
    "version": 3
   },
   "file_extension": ".py",
   "mimetype": "text/x-python",
   "name": "python",
   "nbconvert_exporter": "python",
   "pygments_lexer": "ipython3",
   "version": "3.6.2"
  }
 },
 "nbformat": 4,
 "nbformat_minor": 2
}
